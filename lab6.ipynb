{
  "nbformat": 4,
  "nbformat_minor": 0,
  "metadata": {
    "colab": {
      "provenance": [],
      "authorship_tag": "ABX9TyO+WKP7KFmT1Vxk4RUs7RCA",
      "include_colab_link": true
    },
    "kernelspec": {
      "name": "python3",
      "display_name": "Python 3"
    },
    "language_info": {
      "name": "python"
    }
  },
  "cells": [
    {
      "cell_type": "markdown",
      "metadata": {
        "id": "view-in-github",
        "colab_type": "text"
      },
      "source": [
        "<a href=\"https://colab.research.google.com/github/Ksssenia8/4kurs/blob/main/lab6.ipynb\" target=\"_parent\"><img src=\"https://colab.research.google.com/assets/colab-badge.svg\" alt=\"Open In Colab\"/></a>"
      ]
    },
    {
      "cell_type": "markdown",
      "source": [
        "Создайте функцию series_data(name,index), в которой сгенерируйте объект s типа Series, содержащий все целые положительные четные числа меньшие 5000 и кратные 11. Озаглавьте серию как name. Индексы s должны быть вида n1, n2, n3 и т. д., где «n» – это сокращение от  number, а число — порядковый номер числа. Преобразуйте числа, начиная с числа с индексом index (2 < index < 100) и до конца списка следующим образом:\n",
        "\n",
        "если индекс нечетный, то число умножается на 3.\n",
        "\n",
        "если индекс четный, то число уменьшается на 31.\n",
        "\n",
        "Функция series_data(name,index) с помощью return должна возвращать наибольшее из чисел с индексами index, index+1, index-1."
      ],
      "metadata": {
        "id": "56AAkIMh6VfJ"
      }
    },
    {
      "cell_type": "code",
      "source": [
        "import pandas as pd\n",
        "\n",
        "def series_data(name, index):\n",
        "    # Проверка условия для индекса\n",
        "    if not (2 < index < 100):\n",
        "        raise ValueError(\"Индекс должен быть в диапазоне от 3 до 99 (2 < index < 100).\")\n",
        "\n",
        "    # Генерация всех положительных четных чисел меньше 5000 и кратных 11\n",
        "    numbers = [i for i in range(0, 5000) if i % 2 == 0 and i % 11 == 0]\n",
        "\n",
        "    # Создание объекта Series с индексами n1, n2, n3, ...\n",
        "    s = pd.Series(numbers, index=[f'n{i+1}' for i in range(len(numbers))])\n",
        "    s.name = name\n",
        "\n",
        "    # Преобразование чисел в зависимости от индекса\n",
        "    for i in range(index, len(s)):\n",
        "        if i % 2 == 0:  # Индекс четный\n",
        "            s.iloc[i] -= 31\n",
        "        else:  # Индекс нечетный\n",
        "            s.iloc[i] *= 3\n",
        "\n",
        "    # Получаем значения по индексам index, index+1 и index-1\n",
        "    # Учитываем, что индексы могут выходить за границы серии\n",
        "    values = []\n",
        "    for i in [index - 1, index, index + 1]:\n",
        "        if 0 <= i < len(s):\n",
        "            values.append(s.iloc[i])\n",
        "\n",
        "    return max(values)\n",
        "\n",
        "# Примеры тестирования функции\n",
        "try:\n",
        "    print(series_data('Название серии', 3))   # Ожидается 198\n",
        "    print(series_data('Название серии', 33))  # Ожидается 2178\n",
        "    print(series_data('Название серии', 1))   # Ожидается ошибка\n",
        "except ValueError as e:\n",
        "    print(e)\n"
      ],
      "metadata": {
        "colab": {
          "base_uri": "https://localhost:8080/"
        },
        "id": "Ta6Al9hi6Wq8",
        "outputId": "c942b806-dcbd-4c59-c128-d0326d21fd33"
      },
      "execution_count": 3,
      "outputs": [
        {
          "output_type": "stream",
          "name": "stdout",
          "text": [
            "198\n",
            "2178\n",
            "Индекс должен быть в диапазоне от 3 до 99 (2 < index < 100).\n"
          ]
        }
      ]
    },
    {
      "cell_type": "markdown",
      "source": [
        "**Задание 2**"
      ],
      "metadata": {
        "id": "qCAvmxA5kKuZ"
      }
    },
    {
      "cell_type": "markdown",
      "source": [
        "Создайте функцию frame_data(list1, list2, indices), где  list1, list2 – двумерные списки одинакового размера n x n (n = 1, 2, 3, …), indices – список из односимвольных значений длиной n. Из списков list1 и list2 создайте объекты класса DataFrame df1 и df2 соответственно. В df1 и df2 задайте индексацию indices. Отсортируйте строки df1 по убыванию индекса. В df2 отсортируйте строки по увеличению их суммы (для этого создайте в df2 столбец с суммами элементов строк и используйте этот столбец в качестве индекса). В каждом из df1 и df2 получить элемент, находящийся в первой по порядку (нулевой) строке и левом столбце, эти два элемента сложить. Функция  frame_data(list1, list2, indices) с помощью return должна возвращать полученную сумму.\n"
      ],
      "metadata": {
        "id": "PKhbX4NkkQFD"
      }
    },
    {
      "cell_type": "code",
      "source": [
        "import pandas as pd\n",
        "\n",
        "def frame_data(list1, list2, indices):\n",
        "    # Создание DataFrame из list1 и list2\n",
        "    df1 = pd.DataFrame(list1, index=indices)\n",
        "    df2 = pd.DataFrame(list2, index=indices)\n",
        "\n",
        "    # Сортировка df1 по убыванию индексов\n",
        "    df1 = df1.sort_index(ascending=False)\n",
        "\n",
        "    # Добавление столбца с суммами строк в df2 и сортировка по этому столбцу\n",
        "    df2['row_sum'] = df2.sum(axis=1)\n",
        "    df2 = df2.sort_values(by='row_sum').drop(columns='row_sum')\n",
        "\n",
        "    # Получение элемента из первой строки и первого столбца для df1 и df2\n",
        "    element_df1 = df1.iloc[0, 0]\n",
        "    element_df2 = df2.iloc[0, 0]\n",
        "\n",
        "    # Возврат суммы элементов\n",
        "    return element_df1 + element_df2\n",
        "\n",
        "# Примеры тестирования функции\n",
        "print(frame_data([[4,5],[7,8]], [[20,30],[4,5]], ['C','D']))      # Ожидается 11\n",
        "print(frame_data([[1,2,3],[4,5,6],[7,8,9]], [[100,20,30],[4,5,60],[7,80,9]], ['C','A', 'B']))  # Ожидается 5\n"
      ],
      "metadata": {
        "colab": {
          "base_uri": "https://localhost:8080/"
        },
        "id": "l-B-XGBckUao",
        "outputId": "5dc1c128-618e-42c1-e59e-a363b0b9e67e"
      },
      "execution_count": 1,
      "outputs": [
        {
          "output_type": "stream",
          "name": "stdout",
          "text": [
            "11\n",
            "5\n"
          ]
        }
      ]
    },
    {
      "cell_type": "markdown",
      "source": [
        "**Задание 4**"
      ],
      "metadata": {
        "id": "L3oK6mg6lgeh"
      }
    },
    {
      "cell_type": "markdown",
      "source": [
        "Зашумленные транзакционные данные представлены в списке transaction = [120, -31, ’20.1’, 12.3, ‘bank’, 12, -4, -7, 150, ‘mr.’, 23, 32, 21]. Необходимо:\n",
        "\n",
        "1.Создать объект pd.Series, значения которого совпадают со значениями transaction, а индексы – целые числа >= 10 и < 23. Сохранить созданный объект в переменную t.\n",
        "\n",
        "2.Из t получить только целые числа элементы (*) и вычислите их несмещенную выборочную дисперсию (применив к t метод .var(ddof=1)) среднее значение (применив к t метод .mean()).\n"
      ],
      "metadata": {
        "id": "cwMNsvDUlilQ"
      }
    },
    {
      "cell_type": "code",
      "source": [
        "import pandas as pd\n",
        "\n",
        "# Зашумленные транзакционные данные\n",
        "transaction = [120, -31, '20.1', 12.3, 'bank', 12, -4, -7, 150, 'mr.', 23, 32, 21]\n",
        "\n",
        "# Создание объекта Series с индексами от 10 до 22\n",
        "t = pd.Series(transaction, index=range(10, 23))\n",
        "\n",
        "# Извлечение только целочисленных значений\n",
        "integer_values = t[t.apply(lambda x: isinstance(x, int))]\n",
        "\n",
        "# Вычисление несмещенной выборочной дисперсии и среднего значения\n",
        "variance = integer_values.var(ddof=1)\n",
        "mean = integer_values.mean()\n",
        "\n",
        "print(\"Несмещенная выборочная дисперсия:\", variance)\n",
        "print(\"Среднее значение:\", mean)\n"
      ],
      "metadata": {
        "colab": {
          "base_uri": "https://localhost:8080/"
        },
        "id": "qRaHJ8hVltOm",
        "outputId": "ab04ead9-fd81-492f-f5b8-b70588acf2fc"
      },
      "execution_count": 4,
      "outputs": [
        {
          "output_type": "stream",
          "name": "stdout",
          "text": [
            "Несмещенная выборочная дисперсия: 3621.111111111111\n",
            "Среднее значение: 35.111111111111114\n"
          ]
        }
      ]
    },
    {
      "cell_type": "markdown",
      "source": [
        "**Задание 5**\n"
      ],
      "metadata": {
        "id": "OwTlwEqoIg9M"
      }
    },
    {
      "cell_type": "markdown",
      "source": [
        "Используя функцию random.normal() из модуля numpy, cгенерируйте 200 значений нормально распределённой случайной величины (*). Результат генерации сохраните как pd.Series в переменную s.\n",
        "\n",
        "1.Каждое значение s возведите во 2 степень, индексы элементов s увеличьте на 2.\n",
        "\n",
        "2.Выведите количество значений s, которые больше 2.\n",
        "\n",
        "3.Выведите сумму элементов, строго меньших 2 и имеют нечётные индексы."
      ],
      "metadata": {
        "id": "TgjG70aIIj-N"
      }
    },
    {
      "cell_type": "code",
      "source": [
        "import numpy as np\n",
        "import pandas as pd\n",
        "\n",
        "# Шаг 1: Генерируем 200 значений нормально распределённой случайной величины\n",
        "s = pd.Series(np.random.normal(size=200))\n",
        "\n",
        "# Шаг 2: Возводим каждое значение s во 2 степень и увеличиваем индексы на 2\n",
        "s = s**2\n",
        "s.index = s.index + 2\n",
        "\n",
        "# Шаг 3: Выводим количество значений s, которые больше 2\n",
        "count_greater_than_2 = (s > 2).sum()\n",
        "print(\"Количество значений s больше 2:\", count_greater_than_2)\n",
        "\n",
        "# Шаг 4: Находим сумму элементов, строго меньших 2 и с нечётными индексами\n",
        "sum_less_than_2_odd_indices = s[(s < 2) & (s.index % 2 != 0)].sum()\n",
        "print(\"Сумма элементов, строго меньших 2 и с нечётными индексами:\", sum_less_than_2_odd_indices)\n"
      ],
      "metadata": {
        "colab": {
          "base_uri": "https://localhost:8080/"
        },
        "id": "pTkGq1DPI3ap",
        "outputId": "f5dc8e07-a076-45f1-82f5-52e4b38f4a36"
      },
      "execution_count": 1,
      "outputs": [
        {
          "output_type": "stream",
          "name": "stdout",
          "text": [
            "Количество значений s больше 2: 25\n",
            "Сумма элементов, строго меньших 2 и с нечётными индексами: 41.645029618688\n"
          ]
        }
      ]
    },
    {
      "cell_type": "markdown",
      "source": [
        "Задание **6**"
      ],
      "metadata": {
        "id": "rbYLlzLzJCs7"
      }
    },
    {
      "cell_type": "markdown",
      "source": [
        "Скачать набор данных (таблицу) CreditCardTransaction.csv с https://www.kaggle.com/datasets/ybifoundation/credit-card-transaction. Прочитать и сохранить эту таблицу в pd.DataFrame с именем df.\n",
        "\n",
        "1.Задав np.random.seed(12) и используя методsample(), из df получите выборку, содержащую 10000 строк. Выборку сохраните в переменную dfs.\n",
        "\n",
        "2.Получите количество раз*, которое встретился каждый департамент (значение столбца Department) в dfs. Выведите3 департамента, которые наиболее часто** встречаются в dfs.\n",
        "\n",
        "3.В dfs получить размер сумм транзакций (поле TrnxAmount) соответствующие январю или февралю 2022 года (поля Year и Month) и:"
      ],
      "metadata": {
        "id": "5ID9Lk8YJEwF"
      }
    }
  ]
}